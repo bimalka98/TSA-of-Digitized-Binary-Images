{
 "cells": [
  {
   "cell_type": "code",
   "execution_count": null,
   "metadata": {},
   "outputs": [],
   "source": [
    "import cv2 as cv\n",
    "import numpy as np\n",
    "import matplotlib.pyplot as plt\n",
    "# magic commands\n",
    "%config IPCompleter.greedy=True\n",
    "%config Completer.use_jedi = False\n",
    "%matplotlib inline"
   ]
  },
  {
   "cell_type": "code",
   "execution_count": null,
   "metadata": {},
   "outputs": [],
   "source": [
    "belt_im =  cv.imread(r'belt.png', cv.IMREAD_GRAYSCALE)\n",
    "th_b, img_b = cv.threshold(belt_im,0,255,cv.THRESH_BINARY_INV+cv.THRESH_OTSU) \n",
    "# 3x3 matrix with all ones, with uint8 dtype\n",
    "kernel = cv.getStructuringElement(cv.MORPH_RECT, (3,3)) \n",
    "closing_b = cv.morphologyEx(img_b, cv.MORPH_CLOSE, kernel) # Dilation followed by Erosion\n",
    "retval_b, labels_b, stats_b, centroids_b = cv.connectedComponentsWithStats(closing_b)\n",
    "label = 1 # remember that the label of the background is 0\n",
    "belt = ((labels_b >= label)*1).astype('uint8')\n",
    "plt.imshow(belt, cmap ='gray'),plt.show()\n",
    "belt_cont,_ = cv.findContours(belt, cv.RETR_EXTERNAL, cv.CHAIN_APPROX_SIMPLE)"
   ]
  }
 ],
 "metadata": {
  "interpreter": {
   "hash": "c47e528fc2038e7f7541f5bdaa13b3962ab977c2d2cd0a542665c102494186f0"
  },
  "kernelspec": {
   "display_name": "Python 3.9.5 64-bit (system)",
   "language": "python",
   "name": "python3"
  },
  "language_info": {
   "codemirror_mode": {
    "name": "ipython",
    "version": 3
   },
   "file_extension": ".py",
   "mimetype": "text/x-python",
   "name": "python",
   "nbconvert_exporter": "python",
   "pygments_lexer": "ipython3",
   "version": "3.9.5"
  },
  "orig_nbformat": 4
 },
 "nbformat": 4,
 "nbformat_minor": 2
}
